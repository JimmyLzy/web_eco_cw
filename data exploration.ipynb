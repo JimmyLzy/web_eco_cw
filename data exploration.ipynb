{
 "cells": [
  {
   "cell_type": "code",
   "execution_count": 1,
   "metadata": {},
   "outputs": [],
   "source": [
    "import pandas as pd\n",
    "import os\n",
    "import matplotlib.pyplot as plt"
   ]
  },
  {
   "cell_type": "code",
   "execution_count": 2,
   "metadata": {},
   "outputs": [],
   "source": [
    "train = pd.read_csv(os.path.join('train.csv'))\n",
    "val = pd.read_csv(os.path.join('validation.csv'))\n",
    "test = pd.read_csv(os.path.join('test.csv'))"
   ]
  },
  {
   "cell_type": "code",
   "execution_count": 3,
   "metadata": {},
   "outputs": [
    {
     "data": {
      "text/html": [
       "<div>\n",
       "<style scoped>\n",
       "    .dataframe tbody tr th:only-of-type {\n",
       "        vertical-align: middle;\n",
       "    }\n",
       "\n",
       "    .dataframe tbody tr th {\n",
       "        vertical-align: top;\n",
       "    }\n",
       "\n",
       "    .dataframe thead th {\n",
       "        text-align: right;\n",
       "    }\n",
       "</style>\n",
       "<table border=\"1\" class=\"dataframe\">\n",
       "  <thead>\n",
       "    <tr style=\"text-align: right;\">\n",
       "      <th></th>\n",
       "      <th>bidprice</th>\n",
       "      <th>payprice</th>\n",
       "      <th>slotprice</th>\n",
       "    </tr>\n",
       "  </thead>\n",
       "  <tbody>\n",
       "    <tr>\n",
       "      <th>0</th>\n",
       "      <td>238</td>\n",
       "      <td>5</td>\n",
       "      <td>5</td>\n",
       "    </tr>\n",
       "    <tr>\n",
       "      <th>1</th>\n",
       "      <td>294</td>\n",
       "      <td>23</td>\n",
       "      <td>0</td>\n",
       "    </tr>\n",
       "    <tr>\n",
       "      <th>2</th>\n",
       "      <td>238</td>\n",
       "      <td>24</td>\n",
       "      <td>5</td>\n",
       "    </tr>\n",
       "    <tr>\n",
       "      <th>3</th>\n",
       "      <td>300</td>\n",
       "      <td>25</td>\n",
       "      <td>0</td>\n",
       "    </tr>\n",
       "    <tr>\n",
       "      <th>4</th>\n",
       "      <td>277</td>\n",
       "      <td>133</td>\n",
       "      <td>133</td>\n",
       "    </tr>\n",
       "  </tbody>\n",
       "</table>\n",
       "</div>"
      ],
      "text/plain": [
       "   bidprice  payprice  slotprice\n",
       "0       238         5          5\n",
       "1       294        23          0\n",
       "2       238        24          5\n",
       "3       300        25          0\n",
       "4       277       133        133"
      ]
     },
     "execution_count": 3,
     "metadata": {},
     "output_type": "execute_result"
    }
   ],
   "source": [
    "train[['bidprice', 'payprice', 'slotprice']].head()"
   ]
  },
  {
   "cell_type": "code",
   "execution_count": 4,
   "metadata": {},
   "outputs": [
    {
     "data": {
      "text/plain": [
       "Index(['click', 'weekday', 'hour', 'bidid', 'userid', 'useragent', 'IP',\n",
       "       'region', 'city', 'adexchange', 'domain', 'url', 'urlid', 'slotid',\n",
       "       'slotwidth', 'slotheight', 'slotvisibility', 'slotformat', 'slotprice',\n",
       "       'creative', 'bidprice', 'payprice', 'keypage', 'advertiser', 'usertag'],\n",
       "      dtype='object')"
      ]
     },
     "execution_count": 4,
     "metadata": {},
     "output_type": "execute_result"
    }
   ],
   "source": [
    "train.columns"
   ]
  },
  {
   "cell_type": "code",
   "execution_count": null,
   "metadata": {},
   "outputs": [],
   "source": []
  },
  {
   "cell_type": "code",
   "execution_count": 5,
   "metadata": {},
   "outputs": [
    {
     "name": "stdout",
     "output_type": "stream",
     "text": [
      "              Avg CPM       CTR  Clicks       Cost    Imps        eCPC\n",
      "advertiser                                                            \n",
      "1458        68.992646  0.078196     385  33968.736  492353   88.230483\n",
      "2259        92.974931  0.032168      43  12428.238  133673  289.028791\n",
      "2261        89.662184  0.032691      36   9873.779  110122  274.271639\n",
      "2821        89.077922  0.061978     131  18828.044  211366  143.725527\n",
      "2997        62.800116  0.435489     217   3129.267   49829   14.420585\n",
      "3358        84.720599  0.076239     202  22447.231  264956  111.124906\n",
      "3386        76.766320  0.070323     320  34931.823  455041  109.161947\n",
      "3427        75.616329  0.067526     272  30458.711  402806  111.980555\n",
      "3476        76.950083  0.060161     187  23918.779  310835  127.907909\n"
     ]
    }
   ],
   "source": [
    "\"\"\"\n",
    "Computes some basic statistics based on provided dataset such as Clicks, Imps and CTR.\n",
    "\"\"\"\n",
    "cols = train[['click', 'advertiser', 'payprice']]\n",
    "grouped_cols = cols.groupby('advertiser')\n",
    "new_features = grouped_cols.count()\n",
    "new_features['Imps'] = new_features['click']\n",
    "\n",
    "new_features.rename(columns={'click':'Clicks', 'payprice':'Cost'}, inplace = True)\n",
    "\n",
    "new_features[['Clicks', 'Cost']] = grouped_cols.sum()[['click', 'payprice']]\n",
    "new_features['Cost'] = new_features['Cost'] / 1000\n",
    "\n",
    "new_features[['Avg CPM']] = grouped_cols.mean()[['payprice']]\n",
    "\n",
    "\n",
    "new_features['CTR'] = new_features['Clicks'] / new_features['Imps'] * 100\n",
    "new_features['eCPC'] = new_features['Cost'] / new_features['Clicks']\n",
    "\n",
    "new_features = new_features.reindex(sorted(new_features.columns), axis=1)\n",
    "print(new_features)"
   ]
  },
  {
   "cell_type": "code",
   "execution_count": 6,
   "metadata": {},
   "outputs": [
    {
     "data": {
      "text/plain": [
       "{'android_chrome',\n",
       " 'android_ie',\n",
       " 'android_maxthon',\n",
       " 'android_other',\n",
       " 'android_safari',\n",
       " 'android_sogou',\n",
       " 'other_other'}"
      ]
     },
     "execution_count": 6,
     "metadata": {},
     "output_type": "execute_result"
    }
   ],
   "source": [
    "set(train.loc[train['advertiser'] == 2997]['useragent'])"
   ]
  },
  {
   "cell_type": "code",
   "execution_count": 7,
   "metadata": {},
   "outputs": [
    {
     "name": "stderr",
     "output_type": "stream",
     "text": [
      "/Library/Frameworks/Python.framework/Versions/3.6/lib/python3.6/site-packages/pandas/plotting/_core.py:1716: UserWarning: Pandas doesn't allow columns to be created via a new attribute name - see https://pandas.pydata.org/pandas-docs/stable/indexing.html#attribute-access\n",
      "  series.name = label\n"
     ]
    },
    {
     "data": {
      "image/png": "[encoded data removed]",
      "text/plain": [
       "<matplotlib.figure.Figure at 0x10a102f98>"
      ]
     },
     "metadata": {},
     "output_type": "display_data"
    }
   ],
   "source": [
    "cols = train[['click', 'advertiser', 'weekday']]\n",
    "grouped_cols = cols.groupby(['advertiser', 'weekday'])\n",
    "new_features = grouped_cols.sum()\n",
    "new_features.rename(columns={'click':'Clicks'}, inplace = True)\n",
    "new_features['Imps'] = grouped_cols.count()['click']\n",
    "new_features['CTR'] = new_features['Clicks'] / new_features['Imps'] * 100\n",
    "new_features = new_features.reset_index()\n",
    "\n",
    "plot_df = new_features.loc[new_features['advertiser'] == 1458]\n",
    "plot_df.plot(x=\"weekday\", y=[\"CTR\"], kind=\"bar\")\n",
    "plt.show()"
   ]
  },
  {
   "cell_type": "code",
   "execution_count": 8,
   "metadata": {},
   "outputs": [
    {
     "name": "stderr",
     "output_type": "stream",
     "text": [
      "/Library/Frameworks/Python.framework/Versions/3.6/lib/python3.6/site-packages/pandas/plotting/_core.py:1716: UserWarning: Pandas doesn't allow columns to be created via a new attribute name - see https://pandas.pydata.org/pandas-docs/stable/indexing.html#attribute-access\n",
      "  series.name = label\n"
     ]
    },
    {
     "data": {
      "image/png": "[encoded data removed]",
      "text/plain": [
       "<matplotlib.figure.Figure at 0x105972278>"
      ]
     },
     "metadata": {},
     "output_type": "display_data"
    }
   ],
   "source": [
    "cols = train[['click', 'advertiser', 'region']]\n",
    "grouped_cols = cols.groupby(['advertiser', 'region'])\n",
    "new_features = grouped_cols.sum()\n",
    "new_features.rename(columns={'click':'Clicks'}, inplace = True)\n",
    "new_features['Imps'] = grouped_cols.count()['click']\n",
    "new_features['CTR'] = new_features['Clicks'] / new_features['Imps'] * 100\n",
    "new_features = new_features.reset_index()\n",
    "\n",
    "plot_df = new_features.loc[new_features['advertiser'] == 3476]\n",
    "plot_df.plot(x=\"region\", y=[\"CTR\"], kind=\"bar\")\n",
    "plt.show()"
   ]
  },
  {
   "cell_type": "code",
   "execution_count": 11,
   "metadata": {},
   "outputs": [
    {
     "data": {
      "text/plain": [
       "100.0"
      ]
     },
     "execution_count": 11,
     "metadata": {},
     "output_type": "execute_result"
    }
   ],
   "source": [
    "sum(val['bidprice'] >= val['payprice']) \\\n",
    "    / len(val['bidprice']) * 100"
   ]
  }
 ],
 "metadata": {
  "kernelspec": {
   "display_name": "Python 3",
   "language": "python",
   "name": "python3"
  },
  "language_info": {
   "codemirror_mode": {
    "name": "ipython",
    "version": 3
   },
   "file_extension": ".py",
   "mimetype": "text/x-python",
   "name": "python",
   "nbconvert_exporter": "python",
   "pygments_lexer": "ipython3",
   "version": "3.6.2"
  }
 },
 "nbformat": 4,
 "nbformat_minor": 2
}
