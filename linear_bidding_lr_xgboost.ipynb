{
 "cells": [
  {
   "cell_type": "code",
   "execution_count": 1,
   "metadata": {},
   "outputs": [],
   "source": [
    "import pandas as pd\n",
    "import os"
   ]
  },
  {
   "cell_type": "code",
   "execution_count": 2,
   "metadata": {},
   "outputs": [],
   "source": [
    "train = pd.read_csv(os.path.join('train.csv'))\n",
    "val = pd.read_csv(os.path.join('validation.csv'))\n",
    "test = pd.read_csv(os.path.join('test.csv'))"
   ]
  },
  {
   "cell_type": "code",
   "execution_count": 3,
   "metadata": {},
   "outputs": [],
   "source": [
    "xgboost_pred = pd.read_csv(os.path.join('xgboost_val.csv'))\n",
    "lr_pred = pd.read_csv(os.path.join('lr_val.csv'))"
   ]
  },
  {
   "cell_type": "code",
   "execution_count": 12,
   "metadata": {},
   "outputs": [],
   "source": [
    "val_pred = xgboost_pred['click'] * 0.85 + lr_pred['click'] * 0.15"
   ]
  },
  {
   "cell_type": "code",
   "execution_count": 13,
   "metadata": {},
   "outputs": [
    {
     "data": {
      "text/plain": [
       "0.00017767541334210742"
      ]
     },
     "execution_count": 13,
     "metadata": {},
     "output_type": "execute_result"
    }
   ],
   "source": [
    "sum([round(x) for x in val_pred]) / len(val)"
   ]
  },
  {
   "cell_type": "code",
   "execution_count": 14,
   "metadata": {},
   "outputs": [
    {
     "name": "stdout",
     "output_type": "stream",
     "text": [
      "0.0007375623256619447\n"
     ]
    }
   ],
   "source": [
    "avgCTR = sum(train['click']) / len(train)\n",
    "print(avgCTR)"
   ]
  },
  {
   "cell_type": "code",
   "execution_count": 15,
   "metadata": {},
   "outputs": [],
   "source": [
    "def compare_performance(metrics_list, best_metrics):\n",
    "    return metrics_list[0] >= best_metrics[0] and metrics_list[1] >= best_metrics[1]"
   ]
  },
  {
   "cell_type": "code",
   "execution_count": 16,
   "metadata": {},
   "outputs": [],
   "source": [
    "new_val = val.copy()\n",
    "results = []\n",
    "\n",
    "for base_bid in range(3, 100):\n",
    "    bidprices = [x * base_bid / avgCTR for x in val_pred]\n",
    "    new_val['bidprice'] = bidprices\n",
    "    new_val.loc[new_val.advertiser == 2259, 'bidprice'] = 15\n",
    "    new_val.loc[new_val.advertiser == 2261, 'bidprice'] = 15   \n",
    "    budget = 6250\n",
    "    suc_bids = new_val.query('bidprice >= payprice and bidprice >= slotprice')\n",
    "    cost = 0\n",
    "    clicks = 0\n",
    "    imps = 0\n",
    "    i = 0\n",
    "    for index, row in suc_bids.iterrows():\n",
    "        if cost <= budget:\n",
    "            cost += row['payprice'] / 1000\n",
    "            clicks += row['click']\n",
    "            imps += 1\n",
    "            \n",
    "    eCPC = cost / clicks if clicks > 0 else float('inf')\n",
    "    metrics_list = [clicks, clicks / imps * 100, cost, cost / imps * 1000, eCPC]\n",
    "    results.append([base_bid, clicks, clicks / imps * 100, cost, cost / imps * 1000, eCPC])\n",
    "    \n",
    "results = pd.DataFrame(results)\n",
    "results = results.rename(columns={0: \"base_bid\", 1: \"clicks\",\n",
    "    2: \"CTR\", 3: \"cost\", 4: \"avg CPM\", 5: \"eCPC\"})\n",
    "results.to_csv(os.path.join('linear_bid_xgboost_lr.csv'), index=False)"
   ]
  },
  {
   "cell_type": "code",
   "execution_count": 17,
   "metadata": {},
   "outputs": [
    {
     "data": {
      "text/html": [
       "<div>\n",
       "<style scoped>\n",
       "    .dataframe tbody tr th:only-of-type {\n",
       "        vertical-align: middle;\n",
       "    }\n",
       "\n",
       "    .dataframe tbody tr th {\n",
       "        vertical-align: top;\n",
       "    }\n",
       "\n",
       "    .dataframe thead th {\n",
       "        text-align: right;\n",
       "    }\n",
       "</style>\n",
       "<table border=\"1\" class=\"dataframe\">\n",
       "  <thead>\n",
       "    <tr style=\"text-align: right;\">\n",
       "      <th></th>\n",
       "      <th>base_bid</th>\n",
       "      <th>clicks</th>\n",
       "      <th>CTR</th>\n",
       "      <th>cost</th>\n",
       "      <th>avg CPM</th>\n",
       "      <th>eCPC</th>\n",
       "    </tr>\n",
       "  </thead>\n",
       "  <tbody>\n",
       "    <tr>\n",
       "      <th>66</th>\n",
       "      <td>69</td>\n",
       "      <td>163</td>\n",
       "      <td>0.126653</td>\n",
       "      <td>6250.026</td>\n",
       "      <td>48.563505</td>\n",
       "      <td>38.343718</td>\n",
       "    </tr>\n",
       "  </tbody>\n",
       "</table>\n",
       "</div>"
      ],
      "text/plain": [
       "    base_bid  clicks       CTR      cost    avg CPM       eCPC\n",
       "66        69     163  0.126653  6250.026  48.563505  38.343718"
      ]
     },
     "execution_count": 17,
     "metadata": {},
     "output_type": "execute_result"
    }
   ],
   "source": [
    "results.loc[results.clicks == max(results['clicks'])]"
   ]
  }
 ],
 "metadata": {
  "kernelspec": {
   "display_name": "Python 3",
   "language": "python",
   "name": "python3"
  },
  "language_info": {
   "codemirror_mode": {
    "name": "ipython",
    "version": 3
   },
   "file_extension": ".py",
   "mimetype": "text/x-python",
   "name": "python",
   "nbconvert_exporter": "python",
   "pygments_lexer": "ipython3",
   "version": "3.6.2"
  }
 },
 "nbformat": 4,
 "nbformat_minor": 2
}
