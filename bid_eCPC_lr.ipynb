{
 "cells": [
  {
   "cell_type": "code",
   "execution_count": 1,
   "metadata": {},
   "outputs": [],
   "source": [
    "import pandas as pd\n",
    "import os\n",
    "from sklearn import linear_model, datasets, preprocessing, metrics\n",
    "from sklearn.metrics import accuracy_score\n",
    "from xgboost import XGBClassifier\n",
    "from sklearn.feature_extraction import DictVectorizer\n",
    "import numpy as np\n",
    "from sklearn.model_selection import KFold\n",
    "import xgboost as xgb"
   ]
  },
  {
   "cell_type": "code",
   "execution_count": null,
   "metadata": {},
   "outputs": [],
   "source": []
  },
  {
   "cell_type": "code",
   "execution_count": 2,
   "metadata": {},
   "outputs": [],
   "source": [
    "train = pd.read_csv(os.path.join('train.csv'))\n",
    "val = pd.read_csv(os.path.join('validation.csv'))\n",
    "test = pd.read_csv(os.path.join('test.csv'))"
   ]
  },
  {
   "cell_type": "code",
   "execution_count": 3,
   "metadata": {},
   "outputs": [],
   "source": [
    "def downsampling(data):\n",
    "    data_no_click = data.query('click == 0')\n",
    "    data_one_click = data.query('click == 1')\n",
    "    sample_nums = len(data_one_click) * 30\n",
    "    new_data_no_click = data_no_click.sample(n=sample_nums, random_state=42)\n",
    "    return pd.concat([new_data_no_click, data_one_click])"
   ]
  },
  {
   "cell_type": "code",
   "execution_count": 4,
   "metadata": {},
   "outputs": [],
   "source": [
    "def preprocess_data(data, enforce_cols=None):\n",
    "    data = data.sort_index(axis=0)\n",
    "    to_drop = ['userid', 'bidid', 'url', 'urlid', 'IP', 'keypage', 'slotid', 'creative', 'domain']\n",
    "    data = data.drop(to_drop, axis=1)\n",
    "  \n",
    "    colums_split = data['useragent'].str.split('_', expand=True)\n",
    "    data = data.join(colums_split.rename(columns={0:'os', 1:'browser'}))\n",
    "#     data = data.apply(lambda row: hash_feature(row), axis=1)\n",
    "    \n",
    "    colums_split = data['usertag'].str.split(',')\n",
    "    colums_split = colums_split.str.join('|').str.get_dummies()\n",
    "    colums_split = colums_split.add_prefix('usertag_')\n",
    "    data = data.join(colums_split)\n",
    "    \n",
    "    data.drop(['useragent', 'usertag'], axis=1, inplace=True)\n",
    "    data.fillna(\"unknown\", inplace=True)\n",
    "    data = pd.get_dummies(data) \n",
    "\n",
    "    # match test set and training set columns\n",
    "    if enforce_cols is not None:\n",
    "    # enforce_cols is the columns of train set, to_drop and to_add finds the difference\n",
    "        to_drop = np.setdiff1d(data.columns, enforce_cols)\n",
    "        to_add = np.setdiff1d(enforce_cols, data.columns)\n",
    "        data.drop(to_drop, axis=1, inplace=True)\n",
    "        data = data.assign(**{c: 0 for c in to_add})\n",
    "        \n",
    "    data = data.reindex(sorted(data.columns), axis=1)\n",
    "    return data"
   ]
  },
  {
   "cell_type": "code",
   "execution_count": 5,
   "metadata": {},
   "outputs": [],
   "source": [
    "train_processed = downsampling(train.copy())\n",
    "train_processed = preprocess_data(train_processed)\n",
    "val_processed = preprocess_data(val.copy(), enforce_cols=train_processed.columns)\n",
    "test_processed = preprocess_data(test.copy(), enforce_cols=train_processed.columns)"
   ]
  },
  {
   "cell_type": "code",
   "execution_count": 6,
   "metadata": {},
   "outputs": [],
   "source": [
    "# transformer = preprocessing.OneHotEncoder()\n",
    "# transformer.fit(train_processed)\n",
    "# train_processed = transformer.transform(train_processed)\n",
    "# val_processed = transformer.transform(val_processed)"
   ]
  },
  {
   "cell_type": "code",
   "execution_count": 7,
   "metadata": {},
   "outputs": [],
   "source": [
    "train_x = train_processed.drop(['bidprice', 'payprice', 'click'], axis=1)\n",
    "train_y = train_processed['click']\n",
    "val_x = val_processed.drop(['bidprice', 'payprice', 'click'], axis=1)\n",
    "val_y = val_processed['click']\n",
    "test_x = test_processed.drop(['bidprice', 'payprice', 'click'], axis=1)"
   ]
  },
  {
   "cell_type": "code",
   "execution_count": null,
   "metadata": {},
   "outputs": [],
   "source": []
  },
  {
   "cell_type": "code",
   "execution_count": 8,
   "metadata": {},
   "outputs": [
    {
     "data": {
      "text/html": [
       "<div>\n",
       "<style scoped>\n",
       "    .dataframe tbody tr th:only-of-type {\n",
       "        vertical-align: middle;\n",
       "    }\n",
       "\n",
       "    .dataframe tbody tr th {\n",
       "        vertical-align: top;\n",
       "    }\n",
       "\n",
       "    .dataframe thead th {\n",
       "        text-align: right;\n",
       "    }\n",
       "</style>\n",
       "<table border=\"1\" class=\"dataframe\">\n",
       "  <thead>\n",
       "    <tr style=\"text-align: right;\">\n",
       "      <th></th>\n",
       "      <th>adexchange_1.0</th>\n",
       "      <th>adexchange_2.0</th>\n",
       "      <th>adexchange_3.0</th>\n",
       "      <th>adexchange_4.0</th>\n",
       "      <th>adexchange_unknown</th>\n",
       "      <th>advertiser</th>\n",
       "      <th>browser_chrome</th>\n",
       "      <th>browser_firefox</th>\n",
       "      <th>browser_ie</th>\n",
       "      <th>browser_maxthon</th>\n",
       "      <th>...</th>\n",
       "      <th>usertag_13874</th>\n",
       "      <th>usertag_14273</th>\n",
       "      <th>usertag_15398</th>\n",
       "      <th>usertag_16593</th>\n",
       "      <th>usertag_16617</th>\n",
       "      <th>usertag_16661</th>\n",
       "      <th>usertag_16706</th>\n",
       "      <th>usertag_16751</th>\n",
       "      <th>usertag_16753</th>\n",
       "      <th>weekday</th>\n",
       "    </tr>\n",
       "  </thead>\n",
       "  <tbody>\n",
       "    <tr>\n",
       "      <th>0</th>\n",
       "      <td>1</td>\n",
       "      <td>0</td>\n",
       "      <td>0</td>\n",
       "      <td>0</td>\n",
       "      <td>0</td>\n",
       "      <td>1458</td>\n",
       "      <td>0</td>\n",
       "      <td>0</td>\n",
       "      <td>1</td>\n",
       "      <td>0</td>\n",
       "      <td>...</td>\n",
       "      <td>0</td>\n",
       "      <td>0</td>\n",
       "      <td>0</td>\n",
       "      <td>0</td>\n",
       "      <td>0</td>\n",
       "      <td>0</td>\n",
       "      <td>0</td>\n",
       "      <td>0</td>\n",
       "      <td>0</td>\n",
       "      <td>4</td>\n",
       "    </tr>\n",
       "    <tr>\n",
       "      <th>1</th>\n",
       "      <td>1</td>\n",
       "      <td>0</td>\n",
       "      <td>0</td>\n",
       "      <td>0</td>\n",
       "      <td>0</td>\n",
       "      <td>3476</td>\n",
       "      <td>1</td>\n",
       "      <td>0</td>\n",
       "      <td>0</td>\n",
       "      <td>0</td>\n",
       "      <td>...</td>\n",
       "      <td>0</td>\n",
       "      <td>0</td>\n",
       "      <td>0</td>\n",
       "      <td>0</td>\n",
       "      <td>0</td>\n",
       "      <td>0</td>\n",
       "      <td>0</td>\n",
       "      <td>0</td>\n",
       "      <td>0</td>\n",
       "      <td>1</td>\n",
       "    </tr>\n",
       "    <tr>\n",
       "      <th>2</th>\n",
       "      <td>0</td>\n",
       "      <td>1</td>\n",
       "      <td>0</td>\n",
       "      <td>0</td>\n",
       "      <td>0</td>\n",
       "      <td>3358</td>\n",
       "      <td>0</td>\n",
       "      <td>0</td>\n",
       "      <td>1</td>\n",
       "      <td>0</td>\n",
       "      <td>...</td>\n",
       "      <td>0</td>\n",
       "      <td>0</td>\n",
       "      <td>0</td>\n",
       "      <td>0</td>\n",
       "      <td>0</td>\n",
       "      <td>0</td>\n",
       "      <td>0</td>\n",
       "      <td>0</td>\n",
       "      <td>0</td>\n",
       "      <td>4</td>\n",
       "    </tr>\n",
       "    <tr>\n",
       "      <th>3</th>\n",
       "      <td>0</td>\n",
       "      <td>1</td>\n",
       "      <td>0</td>\n",
       "      <td>0</td>\n",
       "      <td>0</td>\n",
       "      <td>3358</td>\n",
       "      <td>1</td>\n",
       "      <td>0</td>\n",
       "      <td>0</td>\n",
       "      <td>0</td>\n",
       "      <td>...</td>\n",
       "      <td>0</td>\n",
       "      <td>0</td>\n",
       "      <td>0</td>\n",
       "      <td>0</td>\n",
       "      <td>0</td>\n",
       "      <td>0</td>\n",
       "      <td>0</td>\n",
       "      <td>0</td>\n",
       "      <td>0</td>\n",
       "      <td>5</td>\n",
       "    </tr>\n",
       "    <tr>\n",
       "      <th>4</th>\n",
       "      <td>0</td>\n",
       "      <td>1</td>\n",
       "      <td>0</td>\n",
       "      <td>0</td>\n",
       "      <td>0</td>\n",
       "      <td>3476</td>\n",
       "      <td>1</td>\n",
       "      <td>0</td>\n",
       "      <td>0</td>\n",
       "      <td>0</td>\n",
       "      <td>...</td>\n",
       "      <td>0</td>\n",
       "      <td>0</td>\n",
       "      <td>0</td>\n",
       "      <td>0</td>\n",
       "      <td>0</td>\n",
       "      <td>0</td>\n",
       "      <td>0</td>\n",
       "      <td>0</td>\n",
       "      <td>0</td>\n",
       "      <td>1</td>\n",
       "    </tr>\n",
       "  </tbody>\n",
       "</table>\n",
       "<p>5 rows × 111 columns</p>\n",
       "</div>"
      ],
      "text/plain": [
       "   adexchange_1.0  adexchange_2.0  adexchange_3.0  adexchange_4.0  \\\n",
       "0               1               0               0               0   \n",
       "1               1               0               0               0   \n",
       "2               0               1               0               0   \n",
       "3               0               1               0               0   \n",
       "4               0               1               0               0   \n",
       "\n",
       "   adexchange_unknown  advertiser  browser_chrome  browser_firefox  \\\n",
       "0                   0        1458               0                0   \n",
       "1                   0        3476               1                0   \n",
       "2                   0        3358               0                0   \n",
       "3                   0        3358               1                0   \n",
       "4                   0        3476               1                0   \n",
       "\n",
       "   browser_ie  browser_maxthon   ...     usertag_13874  usertag_14273  \\\n",
       "0           1                0   ...                 0              0   \n",
       "1           0                0   ...                 0              0   \n",
       "2           1                0   ...                 0              0   \n",
       "3           0                0   ...                 0              0   \n",
       "4           0                0   ...                 0              0   \n",
       "\n",
       "   usertag_15398  usertag_16593  usertag_16617  usertag_16661  usertag_16706  \\\n",
       "0              0              0              0              0              0   \n",
       "1              0              0              0              0              0   \n",
       "2              0              0              0              0              0   \n",
       "3              0              0              0              0              0   \n",
       "4              0              0              0              0              0   \n",
       "\n",
       "   usertag_16751  usertag_16753  weekday  \n",
       "0              0              0        4  \n",
       "1              0              0        1  \n",
       "2              0              0        4  \n",
       "3              0              0        5  \n",
       "4              0              0        1  \n",
       "\n",
       "[5 rows x 111 columns]"
      ]
     },
     "execution_count": 8,
     "metadata": {},
     "output_type": "execute_result"
    }
   ],
   "source": [
    "val_x.head()"
   ]
  },
  {
   "cell_type": "code",
   "execution_count": 9,
   "metadata": {},
   "outputs": [],
   "source": [
    "# Caculate the root mean square error\n",
    "def rmse(preds, labels):\n",
    "    diff = preds - labels                       \n",
    "    mean_diff_squared = (diff ** 2).mean()  \n",
    "    error = np.sqrt(mean_diff_squared)\n",
    "\n",
    "    return error "
   ]
  },
  {
   "cell_type": "code",
   "execution_count": null,
   "metadata": {},
   "outputs": [],
   "source": []
  },
  {
   "cell_type": "code",
   "execution_count": 10,
   "metadata": {},
   "outputs": [
    {
     "name": "stdout",
     "output_type": "stream",
     "text": [
      "rmse between pCTR and CTR: 0.0255591878479\n",
      "rmse between pred clicks and clicks: 0.0588816086523\n"
     ]
    }
   ],
   "source": [
    "CTR = sum(val_y) / len(val_x)\n",
    "error = float('inf')\n",
    "for i in range(5):\n",
    "    model = linear_model.LogisticRegression(C=1)\n",
    "    model.fit(train_x, train_y)\n",
    "    val_pred = model.predict_proba(val_x)[:,1]\n",
    "    pCTR = sum(val_pred) / len(val_x)\n",
    "    curr_error = rmse(pCTR, CTR)\n",
    "    if curr_error < error:\n",
    "        error = curr_error\n",
    "        best_pCTR = pCTR\n",
    "        best_val_pred = val_pred\n",
    "print('rmse between pCTR and CTR: ' + str(error))\n",
    "val_pred = best_val_pred\n",
    "print('rmse between pred clicks and clicks: ' + str(rmse(val_pred, val_y)))"
   ]
  },
  {
   "cell_type": "code",
   "execution_count": null,
   "metadata": {},
   "outputs": [],
   "source": []
  },
  {
   "cell_type": "code",
   "execution_count": 11,
   "metadata": {},
   "outputs": [
    {
     "data": {
      "text/plain": [
       "0.99727235337665543"
      ]
     },
     "execution_count": 11,
     "metadata": {},
     "output_type": "execute_result"
    }
   ],
   "source": [
    "accuracy_score([round(x) for x in val_pred], val_y)"
   ]
  },
  {
   "cell_type": "code",
   "execution_count": 12,
   "metadata": {},
   "outputs": [
    {
     "data": {
      "text/plain": [
       "0.0023591346549313155"
      ]
     },
     "execution_count": 12,
     "metadata": {},
     "output_type": "execute_result"
    }
   ],
   "source": [
    "sum([round(x) for x in val_pred]) / len(val_x)"
   ]
  },
  {
   "cell_type": "code",
   "execution_count": 13,
   "metadata": {},
   "outputs": [
    {
     "data": {
      "text/plain": [
       "0.0006646376573167722"
      ]
     },
     "execution_count": 13,
     "metadata": {},
     "output_type": "execute_result"
    }
   ],
   "source": [
    "CTR"
   ]
  },
  {
   "cell_type": "code",
   "execution_count": 14,
   "metadata": {},
   "outputs": [
    {
     "name": "stdout",
     "output_type": "stream",
     "text": [
      "0.0007375623256619447\n"
     ]
    }
   ],
   "source": [
    "avgCTR = sum(train['click']) / len(train)\n",
    "print(avgCTR)"
   ]
  },
  {
   "cell_type": "code",
   "execution_count": null,
   "metadata": {},
   "outputs": [],
   "source": []
  },
  {
   "cell_type": "code",
   "execution_count": 15,
   "metadata": {},
   "outputs": [],
   "source": [
    "def compare_performance(metrics_list, best_metrics):\n",
    "    return metrics_list[0] >= best_metrics[0] and metrics_list[1] >= best_metrics[1]"
   ]
  },
  {
   "cell_type": "code",
   "execution_count": 16,
   "metadata": {},
   "outputs": [],
   "source": [
    "\"\"\"\n",
    "Computes some eCPC statistics based on provided training dataset.\n",
    "\"\"\"\n",
    "cols = train[['click', 'advertiser', 'payprice']]\n",
    "grouped_cols = cols.groupby('advertiser')\n",
    "new_features = grouped_cols.sum()\n",
    "\n",
    "new_features.rename(columns={'click':'Clicks', 'payprice':'Cost'}, inplace = True)\n",
    "\n",
    "new_features['Cost'] = new_features['Cost'] / 1000\n",
    "new_features['eCPC'] = new_features['Cost'] / new_features['Clicks']\n",
    "\n",
    "new_features = new_features.reset_index()\n",
    "new_features = new_features.set_index('advertiser')\n",
    "new_features.drop(['Cost','Clicks'], inplace=True, axis=1)\n",
    "max_eCPCs = train.join(new_features, on='advertiser')['eCPC']"
   ]
  },
  {
   "cell_type": "code",
   "execution_count": 17,
   "metadata": {},
   "outputs": [],
   "source": [
    "max_eCPC = max(max_eCPCs)"
   ]
  },
  {
   "cell_type": "code",
   "execution_count": 18,
   "metadata": {},
   "outputs": [],
   "source": [
    "new_val = val.copy()\n",
    "\n",
    "bidprices = [max_eCPC * val_pred[i] for i in range(len(val_pred))]\n",
    "new_val['bidprice'] = bidprices\n",
    "budget = 6250\n",
    "suc_bids = new_val.query('bidprice >= payprice and bidprice >= slotprice')\n",
    "cost = 0\n",
    "clicks = 0\n",
    "imps = 0\n",
    "results = []\n",
    "\n",
    "for index, row in suc_bids.iterrows():\n",
    "    if cost <= budget:\n",
    "        cost += row['payprice'] / 1000\n",
    "        clicks += row['click']\n",
    "        imps += 1\n",
    "\n",
    "eCPC = cost / clicks if clicks > 0 else float('inf')\n",
    "metrics_list = [clicks, clicks / imps * 100, cost, cost / imps * 1000, eCPC]\n",
    "results.append([clicks, CTR, cost, cost / imps * 1000, eCPC])\n",
    "    \n",
    "results = pd.DataFrame(results)\n",
    "results = results.rename(columns={0: \"clicks\",\n",
    "    1: \"CTR\", 2: \"cost\", 3: \"avg CPM\", 4: \"eCPC\"})\n",
    "results.to_csv(os.path.join('bid_eCPC_lr.csv'), index=False)"
   ]
  },
  {
   "cell_type": "code",
   "execution_count": 19,
   "metadata": {},
   "outputs": [
    {
     "data": {
      "text/html": [
       "<div>\n",
       "<style scoped>\n",
       "    .dataframe tbody tr th:only-of-type {\n",
       "        vertical-align: middle;\n",
       "    }\n",
       "\n",
       "    .dataframe tbody tr th {\n",
       "        vertical-align: top;\n",
       "    }\n",
       "\n",
       "    .dataframe thead th {\n",
       "        text-align: right;\n",
       "    }\n",
       "</style>\n",
       "<table border=\"1\" class=\"dataframe\">\n",
       "  <thead>\n",
       "    <tr style=\"text-align: right;\">\n",
       "      <th></th>\n",
       "      <th>clicks</th>\n",
       "      <th>CTR</th>\n",
       "      <th>cost</th>\n",
       "      <th>avg CPM</th>\n",
       "      <th>eCPC</th>\n",
       "    </tr>\n",
       "  </thead>\n",
       "  <tbody>\n",
       "    <tr>\n",
       "      <th>0</th>\n",
       "      <td>60</td>\n",
       "      <td>0.000665</td>\n",
       "      <td>210.814</td>\n",
       "      <td>20.943175</td>\n",
       "      <td>3.513567</td>\n",
       "    </tr>\n",
       "  </tbody>\n",
       "</table>\n",
       "</div>"
      ],
      "text/plain": [
       "   clicks       CTR     cost    avg CPM      eCPC\n",
       "0      60  0.000665  210.814  20.943175  3.513567"
      ]
     },
     "execution_count": 19,
     "metadata": {},
     "output_type": "execute_result"
    }
   ],
   "source": [
    "results.loc[results.clicks == max(results['clicks'])]"
   ]
  }
 ],
 "metadata": {
  "kernelspec": {
   "display_name": "Python 3",
   "language": "python",
   "name": "python3"
  },
  "language_info": {
   "codemirror_mode": {
    "name": "ipython",
    "version": 3
   },
   "file_extension": ".py",
   "mimetype": "text/x-python",
   "name": "python",
   "nbconvert_exporter": "python",
   "pygments_lexer": "ipython3",
   "version": "3.6.2"
  }
 },
 "nbformat": 4,
 "nbformat_minor": 2
}
