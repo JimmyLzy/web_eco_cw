{
 "cells": [
  {
   "cell_type": "code",
   "execution_count": 1,
   "metadata": {},
   "outputs": [],
   "source": [
    "import pandas as pd\n",
    "import os\n",
    "from sklearn import linear_model, datasets, preprocessing, metrics\n",
    "from sklearn.metrics import accuracy_score\n",
    "from xgboost import XGBClassifier\n",
    "from sklearn.feature_extraction import DictVectorizer\n",
    "import numpy as np\n",
    "from sklearn.model_selection import KFold\n",
    "import xgboost as xgb\n",
    "import matplotlib.pyplot as plt"
   ]
  },
  {
   "cell_type": "code",
   "execution_count": null,
   "metadata": {},
   "outputs": [],
   "source": []
  },
  {
   "cell_type": "code",
   "execution_count": 2,
   "metadata": {},
   "outputs": [],
   "source": [
    "train = pd.read_csv(os.path.join('train.csv'))\n",
    "val = pd.read_csv(os.path.join('validation.csv'))\n",
    "test = pd.read_csv(os.path.join('test.csv'))"
   ]
  },
  {
   "cell_type": "code",
   "execution_count": 3,
   "metadata": {},
   "outputs": [],
   "source": [
    "def downsampling(data):\n",
    "    data_no_click = data.query('click == 0')\n",
    "    data_one_click = data.query('click == 1')\n",
    "    sample_nums = len(data_one_click) * 700\n",
    "    new_data_no_click = data_no_click.sample(n=sample_nums, random_state=42)\n",
    "    return pd.concat([new_data_no_click, data_one_click])"
   ]
  },
  {
   "cell_type": "code",
   "execution_count": 4,
   "metadata": {},
   "outputs": [],
   "source": [
    "# def hash_feature(row):\n",
    "# #     row['keypage'] = hash(row['keypage'])\n",
    "# #     row['slotid'] = hash(row['slotid'])\n",
    "# #     row['creative'] = hash(row['creative'])\n",
    "# #     row['domain'] = hash(row['domain'])\n",
    "#     for user_tag in row['usertag'].split(','):\n",
    "#         if \n",
    "#     return row"
   ]
  },
  {
   "cell_type": "code",
   "execution_count": 5,
   "metadata": {},
   "outputs": [],
   "source": [
    "def create_freq_CTR_by_feature(data, column):\n",
    "    new_features = data[[column, 'click']]\n",
    "    new_features[column + '_freq'] = 1.0\n",
    "    data_grouped = new_features.groupby(column)\n",
    "    new_features = data_grouped.sum()\n",
    "    new_features['click'] /= new_features[column + '_freq']\n",
    "    new_features.rename(columns={'click' : column + '_CTR'}, inplace = True)\n",
    "    return data.join(new_features, on=column)"
   ]
  },
  {
   "cell_type": "code",
   "execution_count": null,
   "metadata": {},
   "outputs": [],
   "source": []
  },
  {
   "cell_type": "code",
   "execution_count": 6,
   "metadata": {},
   "outputs": [],
   "source": [
    "def preprocess_data(data, enforce_cols=None):\n",
    "    data = data.sort_index(axis=0)\n",
    "    to_drop = ['userid', 'bidid', 'url', 'urlid', 'IP', 'keypage', 'slotid', 'creative', 'domain']\n",
    "    data = data.drop(to_drop, axis=1)\n",
    "  \n",
    "    colums_split = data['useragent'].str.split('_', expand=True)\n",
    "    data = data.join(colums_split.rename(columns={0:'os', 1:'browser'}))\n",
    "#     data = data.apply(lambda row: hash_feature(row), axis=1)\n",
    "    \n",
    "    colums_split = data['usertag'].str.split(',')\n",
    "    colums_split = colums_split.str.join('|').str.get_dummies()\n",
    "    colums_split = colums_split.add_prefix('usertag_')\n",
    "    data = data.join(colums_split)\n",
    "    \n",
    "#     data = data.join(colums_split)\n",
    "    data.drop(['useragent', 'usertag'], axis=1, inplace=True)\n",
    "    data.fillna(\"unknown\", inplace=True)\n",
    "    data = pd.get_dummies(data)\n",
    "\n",
    "#     data = create_freq_CTR_by_feature(data, 'city')\n",
    "#     data = create_freq_CTR_by_feature(data, 'region')    \n",
    "\n",
    "    # match test set and training set columns\n",
    "    if enforce_cols is not None:\n",
    "    # enforce_cols is the columns of train set, to_drop and to_add finds the difference\n",
    "        to_drop = np.setdiff1d(data.columns, enforce_cols)\n",
    "        to_add = np.setdiff1d(enforce_cols, data.columns)\n",
    "        data.drop(to_drop, axis=1, inplace=True)\n",
    "        data = data.assign(**{c: 0 for c in to_add})\n",
    "        \n",
    "    data = data.reindex(sorted(data.columns), axis=1)\n",
    "    return data"
   ]
  },
  {
   "cell_type": "code",
   "execution_count": 7,
   "metadata": {},
   "outputs": [],
   "source": [
    "train_processed = downsampling(train.copy())\n",
    "train_processed = preprocess_data(train_processed)\n",
    "val_processed = preprocess_data(val.copy(), enforce_cols=train_processed.columns)\n",
    "test_processed = preprocess_data(test.copy(), enforce_cols=train_processed.columns)"
   ]
  },
  {
   "cell_type": "code",
   "execution_count": 8,
   "metadata": {},
   "outputs": [
    {
     "data": {
      "text/html": [
       "<div>\n",
       "<style scoped>\n",
       "    .dataframe tbody tr th:only-of-type {\n",
       "        vertical-align: middle;\n",
       "    }\n",
       "\n",
       "    .dataframe tbody tr th {\n",
       "        vertical-align: top;\n",
       "    }\n",
       "\n",
       "    .dataframe thead th {\n",
       "        text-align: right;\n",
       "    }\n",
       "</style>\n",
       "<table border=\"1\" class=\"dataframe\">\n",
       "  <thead>\n",
       "    <tr style=\"text-align: right;\">\n",
       "      <th></th>\n",
       "      <th>adexchange_1.0</th>\n",
       "      <th>adexchange_2.0</th>\n",
       "      <th>adexchange_3.0</th>\n",
       "      <th>adexchange_4.0</th>\n",
       "      <th>adexchange_unknown</th>\n",
       "      <th>advertiser</th>\n",
       "      <th>bidprice</th>\n",
       "      <th>browser_chrome</th>\n",
       "      <th>browser_firefox</th>\n",
       "      <th>browser_ie</th>\n",
       "      <th>...</th>\n",
       "      <th>usertag_13874</th>\n",
       "      <th>usertag_14273</th>\n",
       "      <th>usertag_15398</th>\n",
       "      <th>usertag_16593</th>\n",
       "      <th>usertag_16617</th>\n",
       "      <th>usertag_16661</th>\n",
       "      <th>usertag_16706</th>\n",
       "      <th>usertag_16751</th>\n",
       "      <th>usertag_16753</th>\n",
       "      <th>weekday</th>\n",
       "    </tr>\n",
       "  </thead>\n",
       "  <tbody>\n",
       "    <tr>\n",
       "      <th>0</th>\n",
       "      <td>0</td>\n",
       "      <td>1</td>\n",
       "      <td>0</td>\n",
       "      <td>0</td>\n",
       "      <td>0</td>\n",
       "      <td>3427</td>\n",
       "      <td>238</td>\n",
       "      <td>0</td>\n",
       "      <td>0</td>\n",
       "      <td>1</td>\n",
       "      <td>...</td>\n",
       "      <td>0</td>\n",
       "      <td>0</td>\n",
       "      <td>0</td>\n",
       "      <td>0</td>\n",
       "      <td>0</td>\n",
       "      <td>0</td>\n",
       "      <td>0</td>\n",
       "      <td>0</td>\n",
       "      <td>0</td>\n",
       "      <td>5</td>\n",
       "    </tr>\n",
       "    <tr>\n",
       "      <th>1</th>\n",
       "      <td>1</td>\n",
       "      <td>0</td>\n",
       "      <td>0</td>\n",
       "      <td>0</td>\n",
       "      <td>0</td>\n",
       "      <td>2821</td>\n",
       "      <td>294</td>\n",
       "      <td>1</td>\n",
       "      <td>0</td>\n",
       "      <td>0</td>\n",
       "      <td>...</td>\n",
       "      <td>0</td>\n",
       "      <td>0</td>\n",
       "      <td>0</td>\n",
       "      <td>0</td>\n",
       "      <td>0</td>\n",
       "      <td>0</td>\n",
       "      <td>0</td>\n",
       "      <td>0</td>\n",
       "      <td>0</td>\n",
       "      <td>1</td>\n",
       "    </tr>\n",
       "    <tr>\n",
       "      <th>2</th>\n",
       "      <td>0</td>\n",
       "      <td>1</td>\n",
       "      <td>0</td>\n",
       "      <td>0</td>\n",
       "      <td>0</td>\n",
       "      <td>3427</td>\n",
       "      <td>238</td>\n",
       "      <td>0</td>\n",
       "      <td>0</td>\n",
       "      <td>1</td>\n",
       "      <td>...</td>\n",
       "      <td>0</td>\n",
       "      <td>0</td>\n",
       "      <td>0</td>\n",
       "      <td>0</td>\n",
       "      <td>0</td>\n",
       "      <td>0</td>\n",
       "      <td>0</td>\n",
       "      <td>0</td>\n",
       "      <td>0</td>\n",
       "      <td>3</td>\n",
       "    </tr>\n",
       "    <tr>\n",
       "      <th>3</th>\n",
       "      <td>1</td>\n",
       "      <td>0</td>\n",
       "      <td>0</td>\n",
       "      <td>0</td>\n",
       "      <td>0</td>\n",
       "      <td>1458</td>\n",
       "      <td>300</td>\n",
       "      <td>0</td>\n",
       "      <td>0</td>\n",
       "      <td>1</td>\n",
       "      <td>...</td>\n",
       "      <td>0</td>\n",
       "      <td>0</td>\n",
       "      <td>0</td>\n",
       "      <td>0</td>\n",
       "      <td>0</td>\n",
       "      <td>0</td>\n",
       "      <td>0</td>\n",
       "      <td>0</td>\n",
       "      <td>0</td>\n",
       "      <td>6</td>\n",
       "    </tr>\n",
       "    <tr>\n",
       "      <th>5</th>\n",
       "      <td>1</td>\n",
       "      <td>0</td>\n",
       "      <td>0</td>\n",
       "      <td>0</td>\n",
       "      <td>0</td>\n",
       "      <td>1458</td>\n",
       "      <td>300</td>\n",
       "      <td>0</td>\n",
       "      <td>0</td>\n",
       "      <td>1</td>\n",
       "      <td>...</td>\n",
       "      <td>0</td>\n",
       "      <td>0</td>\n",
       "      <td>0</td>\n",
       "      <td>0</td>\n",
       "      <td>0</td>\n",
       "      <td>0</td>\n",
       "      <td>0</td>\n",
       "      <td>0</td>\n",
       "      <td>0</td>\n",
       "      <td>4</td>\n",
       "    </tr>\n",
       "  </tbody>\n",
       "</table>\n",
       "<p>5 rows × 114 columns</p>\n",
       "</div>"
      ],
      "text/plain": [
       "   adexchange_1.0  adexchange_2.0  adexchange_3.0  adexchange_4.0  \\\n",
       "0               0               1               0               0   \n",
       "1               1               0               0               0   \n",
       "2               0               1               0               0   \n",
       "3               1               0               0               0   \n",
       "5               1               0               0               0   \n",
       "\n",
       "   adexchange_unknown  advertiser  bidprice  browser_chrome  browser_firefox  \\\n",
       "0                   0        3427       238               0                0   \n",
       "1                   0        2821       294               1                0   \n",
       "2                   0        3427       238               0                0   \n",
       "3                   0        1458       300               0                0   \n",
       "5                   0        1458       300               0                0   \n",
       "\n",
       "   browser_ie   ...     usertag_13874  usertag_14273  usertag_15398  \\\n",
       "0           1   ...                 0              0              0   \n",
       "1           0   ...                 0              0              0   \n",
       "2           1   ...                 0              0              0   \n",
       "3           1   ...                 0              0              0   \n",
       "5           1   ...                 0              0              0   \n",
       "\n",
       "   usertag_16593  usertag_16617  usertag_16661  usertag_16706  usertag_16751  \\\n",
       "0              0              0              0              0              0   \n",
       "1              0              0              0              0              0   \n",
       "2              0              0              0              0              0   \n",
       "3              0              0              0              0              0   \n",
       "5              0              0              0              0              0   \n",
       "\n",
       "   usertag_16753  weekday  \n",
       "0              0        5  \n",
       "1              0        1  \n",
       "2              0        3  \n",
       "3              0        6  \n",
       "5              0        4  \n",
       "\n",
       "[5 rows x 114 columns]"
      ]
     },
     "execution_count": 8,
     "metadata": {},
     "output_type": "execute_result"
    }
   ],
   "source": [
    "train_processed.head()"
   ]
  },
  {
   "cell_type": "code",
   "execution_count": 9,
   "metadata": {},
   "outputs": [],
   "source": [
    "train_x = train_processed.drop(['bidprice', 'payprice', 'click'], axis=1)\n",
    "train_y = train_processed['click']\n",
    "val_x = val_processed.drop(['bidprice', 'payprice', 'click'], axis=1)\n",
    "val_y = val_processed['click']\n",
    "test_x = test_processed.drop(['bidprice', 'payprice', 'click'], axis=1)"
   ]
  },
  {
   "cell_type": "code",
   "execution_count": null,
   "metadata": {},
   "outputs": [],
   "source": []
  },
  {
   "cell_type": "code",
   "execution_count": 10,
   "metadata": {},
   "outputs": [],
   "source": [
    "# Caculate the root mean square error\n",
    "def rmse(preds, dtrain):\n",
    "    labels = dtrain.get_label()\n",
    "    diff = preds - labels                       \n",
    "    mean_diff_squared = (diff ** 2).mean()  \n",
    "    error = np.sqrt(mean_diff_squared)\n",
    "    return error "
   ]
  },
  {
   "cell_type": "code",
   "execution_count": null,
   "metadata": {},
   "outputs": [],
   "source": []
  },
  {
   "cell_type": "code",
   "execution_count": 11,
   "metadata": {},
   "outputs": [],
   "source": [
    "from sklearn.model_selection import train_test_split\n",
    "import xgboost as xgb\n",
    "\n",
    "def KFold_model(trainX, trainY, test, **kwargs):\n",
    "    trainX = np.array(trainX)\n",
    "    trainY = np.array(trainY)\n",
    "    test = np.array(test)\n",
    "    \n",
    "    K = 5\n",
    "    kfold = KFold(n_splits=K, random_state=7,shuffle = True)\n",
    "\n",
    "    xgb_preds = []\n",
    "    val_scores = []\n",
    "    \n",
    "    for train_index, val_index in kfold.split(trainX):\n",
    "        \n",
    "        train_X, valid_X = trainX[train_index], trainX[val_index]\n",
    "        train_y, valid_y = trainY[train_index], trainY[val_index]\n",
    "        xgb_params = {'eta': 0.3, 'max_depth': 3, 'subsample': 1.0\n",
    "                      , 'colsample_bytree': 1.0, 'objective': 'reg:logistic'\n",
    "                      , 'eval_metric': 'rmse', 'seed': 99, 'silent': True}\n",
    "\n",
    "        d_train = xgb.DMatrix(train_X, train_y)\n",
    "        d_valid = xgb.DMatrix(valid_X, valid_y)\n",
    "        d_test = xgb.DMatrix(test)\n",
    "\n",
    "        watchlist = [(d_train, 'train'), (d_valid, 'valid')]\n",
    "        model = xgb.train(xgb_params, d_train, 500,  watchlist, maximize=False, \n",
    "                              verbose_eval=50, early_stopping_rounds=50)\n",
    "        \n",
    "        val_score = rmse(model.predict(d_valid, ntree_limit=model.best_ntree_limit), d_valid)\n",
    "        print(\"The validation set score is :\\t{}\\n\".format(val_score))\n",
    "        val_scores.append(val_score)\n",
    "        \n",
    "        xgb_pred = model.predict(d_test)\n",
    "        xgb_preds.append(list(xgb_pred))\n",
    "        \n",
    "    print(val_scores)\n",
    "    \n",
    "    preds = []\n",
    "    for i in range(len(xgb_preds[0])):\n",
    "        sumres = 0\n",
    "        for j in range(K):\n",
    "            sumres += xgb_preds[j][i]\n",
    "        preds.append(sumres / K)\n",
    "    \n",
    "    return preds"
   ]
  },
  {
   "cell_type": "code",
   "execution_count": null,
   "metadata": {},
   "outputs": [],
   "source": []
  },
  {
   "cell_type": "code",
   "execution_count": 12,
   "metadata": {},
   "outputs": [
    {
     "name": "stdout",
     "output_type": "stream",
     "text": [
      "[0]\ttrain-rmse:0.355247\tvalid-rmse:0.355235\n",
      "Multiple eval metrics have been passed: 'valid-rmse' will be used for early stopping.\n",
      "\n",
      "Will train until valid-rmse hasn't improved in 50 rounds.\n",
      "[50]\ttrain-rmse:0.034734\tvalid-rmse:0.034684\n",
      "[100]\ttrain-rmse:0.034161\tvalid-rmse:0.034501\n",
      "[150]\ttrain-rmse:0.033733\tvalid-rmse:0.0342\n",
      "[200]\ttrain-rmse:0.033375\tvalid-rmse:0.03407\n",
      "[250]\ttrain-rmse:0.03307\tvalid-rmse:0.034056\n",
      "Stopping. Best iteration:\n",
      "[217]\ttrain-rmse:0.033202\tvalid-rmse:0.033992\n",
      "\n",
      "The validation set score is :\t0.033991701900959015\n",
      "\n",
      "[0]\ttrain-rmse:0.355237\tvalid-rmse:0.35526\n",
      "Multiple eval metrics have been passed: 'valid-rmse' will be used for early stopping.\n",
      "\n",
      "Will train until valid-rmse hasn't improved in 50 rounds.\n",
      "[50]\ttrain-rmse:0.03483\tvalid-rmse:0.03528\n",
      "[100]\ttrain-rmse:0.034104\tvalid-rmse:0.034542\n",
      "[150]\ttrain-rmse:0.033723\tvalid-rmse:0.034409\n",
      "[200]\ttrain-rmse:0.033414\tvalid-rmse:0.034234\n",
      "[250]\ttrain-rmse:0.0331\tvalid-rmse:0.034092\n",
      "Stopping. Best iteration:\n",
      "[236]\ttrain-rmse:0.03317\tvalid-rmse:0.034076\n",
      "\n",
      "The validation set score is :\t0.03407558426260948\n",
      "\n",
      "[0]\ttrain-rmse:0.355247\tvalid-rmse:0.355227\n",
      "Multiple eval metrics have been passed: 'valid-rmse' will be used for early stopping.\n",
      "\n",
      "Will train until valid-rmse hasn't improved in 50 rounds.\n",
      "[50]\ttrain-rmse:0.034978\tvalid-rmse:0.034749\n",
      "[100]\ttrain-rmse:0.034001\tvalid-rmse:0.034177\n",
      "[150]\ttrain-rmse:0.033748\tvalid-rmse:0.03409\n",
      "Stopping. Best iteration:\n",
      "[135]\ttrain-rmse:0.033827\tvalid-rmse:0.034062\n",
      "\n",
      "The validation set score is :\t0.034061696380376816\n",
      "\n",
      "[0]\ttrain-rmse:0.355233\tvalid-rmse:0.355262\n",
      "Multiple eval metrics have been passed: 'valid-rmse' will be used for early stopping.\n",
      "\n",
      "Will train until valid-rmse hasn't improved in 50 rounds.\n",
      "[50]\ttrain-rmse:0.034408\tvalid-rmse:0.03546\n",
      "[100]\ttrain-rmse:0.033698\tvalid-rmse:0.035205\n",
      "[150]\ttrain-rmse:0.033353\tvalid-rmse:0.035085\n",
      "[200]\ttrain-rmse:0.033067\tvalid-rmse:0.035011\n",
      "Stopping. Best iteration:\n",
      "[190]\ttrain-rmse:0.033121\tvalid-rmse:0.035\n",
      "\n",
      "The validation set score is :\t0.034999821335077286\n",
      "\n",
      "[0]\ttrain-rmse:0.355245\tvalid-rmse:0.355245\n",
      "Multiple eval metrics have been passed: 'valid-rmse' will be used for early stopping.\n",
      "\n",
      "Will train until valid-rmse hasn't improved in 50 rounds.\n",
      "[50]\ttrain-rmse:0.034452\tvalid-rmse:0.035502\n",
      "[100]\ttrain-rmse:0.033709\tvalid-rmse:0.035107\n",
      "[150]\ttrain-rmse:0.033391\tvalid-rmse:0.034986\n",
      "[200]\ttrain-rmse:0.033051\tvalid-rmse:0.034806\n",
      "[250]\ttrain-rmse:0.032807\tvalid-rmse:0.034733\n",
      "[300]\ttrain-rmse:0.032589\tvalid-rmse:0.034787\n",
      "Stopping. Best iteration:\n",
      "[260]\ttrain-rmse:0.032751\tvalid-rmse:0.034716\n",
      "\n",
      "The validation set score is :\t0.03471636399626732\n",
      "\n",
      "[0.033991702, 0.034075584, 0.034061696, 0.034999821, 0.034716364]\n"
     ]
    }
   ],
   "source": [
    "val_pred = KFold_model(train_x, train_y, val_x)"
   ]
  },
  {
   "cell_type": "code",
   "execution_count": 13,
   "metadata": {},
   "outputs": [],
   "source": [
    "# w = len(train_y.to_frame().query('click == 0')) / len(train.query('click == 0'))\n",
    "# print(w)"
   ]
  },
  {
   "cell_type": "code",
   "execution_count": 14,
   "metadata": {},
   "outputs": [],
   "source": [
    "# sum([x / (x + (1 - x) / w) for x in val_pred]) / len(val_x)"
   ]
  },
  {
   "cell_type": "code",
   "execution_count": 15,
   "metadata": {},
   "outputs": [
    {
     "data": {
      "text/plain": [
       "0.023861021032229906"
      ]
     },
     "execution_count": 15,
     "metadata": {},
     "output_type": "execute_result"
    }
   ],
   "source": [
    "rmse(val_pred, xgb.DMatrix(val_x, val_y))"
   ]
  },
  {
   "cell_type": "code",
   "execution_count": null,
   "metadata": {},
   "outputs": [],
   "source": []
  },
  {
   "cell_type": "code",
   "execution_count": 16,
   "metadata": {},
   "outputs": [
    {
     "data": {
      "text/plain": [
       "0.0012569717924801743"
      ]
     },
     "execution_count": 16,
     "metadata": {},
     "output_type": "execute_result"
    }
   ],
   "source": [
    "sum([x for x in val_pred]) / len(val_x)"
   ]
  },
  {
   "cell_type": "code",
   "execution_count": null,
   "metadata": {},
   "outputs": [],
   "source": []
  },
  {
   "cell_type": "code",
   "execution_count": 17,
   "metadata": {},
   "outputs": [
    {
     "name": "stdout",
     "output_type": "stream",
     "text": [
      "0.0006646376573167722\n"
     ]
    }
   ],
   "source": [
    "CTR = sum(val_y) / len(val_x)\n",
    "print(CTR)"
   ]
  },
  {
   "cell_type": "code",
   "execution_count": 18,
   "metadata": {},
   "outputs": [
    {
     "name": "stdout",
     "output_type": "stream",
     "text": [
      "0.0007375623256619447\n"
     ]
    }
   ],
   "source": [
    "avgCTR = sum(train['click']) / len(train)\n",
    "print(avgCTR)"
   ]
  },
  {
   "cell_type": "code",
   "execution_count": null,
   "metadata": {},
   "outputs": [],
   "source": []
  },
  {
   "cell_type": "code",
   "execution_count": 19,
   "metadata": {},
   "outputs": [],
   "source": [
    "def compare_performance(metrics_list, best_metrics):\n",
    "    return metrics_list[0] >= best_metrics[0] and metrics_list[1] >= best_metrics[1]"
   ]
  },
  {
   "cell_type": "code",
   "execution_count": null,
   "metadata": {},
   "outputs": [],
   "source": []
  },
  {
   "cell_type": "code",
   "execution_count": 20,
   "metadata": {},
   "outputs": [],
   "source": [
    "new_val = val.copy()\n",
    "\n",
    "results = []\n",
    "click_list = []\n",
    "CTR_list = []\n",
    "cost_list = []\n",
    "base_bid_list = list(range(74, 75))\n",
    "last_paided_index = 0\n",
    "\n",
    "for base_bid in base_bid_list:\n",
    "    bidprices = [x * base_bid / avgCTR for x in val_pred]\n",
    "    new_val['bidprice'] = bidprices\n",
    "    new_val.loc[new_val.advertiser == 2259, 'bidprice'] = 5\n",
    "    new_val.loc[new_val.advertiser == 2261, 'bidprice'] = 5\n",
    "    budget = 6250\n",
    "    suc_bids = new_val.query('bidprice >= payprice and bidprice >= slotprice')\n",
    "    cost = 0\n",
    "    clicks = 0\n",
    "    imps = 0\n",
    "    i = 0\n",
    "    \n",
    "    for index, row in suc_bids.iterrows():\n",
    "        if cost <= budget:\n",
    "            cost += row['payprice'] / 1000\n",
    "            clicks += row['click']\n",
    "            imps += 1\n",
    "            i += 1\n",
    "            last_paided_index = max(last_paided_index, i)\n",
    "            \n",
    "    CTR = clicks / imps * 100\n",
    "    CTR_list.append(CTR * 1000)\n",
    "    click_list.append(clicks)\n",
    "    cost_list.append(cost / 100)\n",
    "    \n",
    "    eCPC = cost / clicks if clicks > 0 else float('inf')\n",
    "    metrics_list = [clicks, CTR, cost, cost / imps * 1000, eCPC]\n",
    "    results.append([base_bid, clicks, CTR, cost, cost / imps * 1000, eCPC])\n",
    "    \n",
    "results = pd.DataFrame(results)\n",
    "results = results.rename(columns={0: \"base_bid\", 1: \"clicks\",\n",
    "    2: \"CTR\", 3: \"cost\", 4: \"avg CPM\", 5: \"eCPC\"})\n",
    "results.to_csv(os.path.join('linear_bid_xgboost.csv'), index=False)"
   ]
  },
  {
   "cell_type": "code",
   "execution_count": 21,
   "metadata": {},
   "outputs": [
    {
     "data": {
      "text/html": [
       "<div>\n",
       "<style scoped>\n",
       "    .dataframe tbody tr th:only-of-type {\n",
       "        vertical-align: middle;\n",
       "    }\n",
       "\n",
       "    .dataframe tbody tr th {\n",
       "        vertical-align: top;\n",
       "    }\n",
       "\n",
       "    .dataframe thead th {\n",
       "        text-align: right;\n",
       "    }\n",
       "</style>\n",
       "<table border=\"1\" class=\"dataframe\">\n",
       "  <thead>\n",
       "    <tr style=\"text-align: right;\">\n",
       "      <th></th>\n",
       "      <th>base_bid</th>\n",
       "      <th>clicks</th>\n",
       "      <th>CTR</th>\n",
       "      <th>cost</th>\n",
       "      <th>avg CPM</th>\n",
       "      <th>eCPC</th>\n",
       "    </tr>\n",
       "  </thead>\n",
       "  <tbody>\n",
       "    <tr>\n",
       "      <th>0</th>\n",
       "      <td>74</td>\n",
       "      <td>165</td>\n",
       "      <td>0.136508</td>\n",
       "      <td>6129.015</td>\n",
       "      <td>50.706657</td>\n",
       "      <td>37.145545</td>\n",
       "    </tr>\n",
       "  </tbody>\n",
       "</table>\n",
       "</div>"
      ],
      "text/plain": [
       "   base_bid  clicks       CTR      cost    avg CPM       eCPC\n",
       "0        74     165  0.136508  6129.015  50.706657  37.145545"
      ]
     },
     "execution_count": 21,
     "metadata": {},
     "output_type": "execute_result"
    }
   ],
   "source": [
    "results.loc[results.clicks == max(results['clicks'])]"
   ]
  },
  {
   "cell_type": "code",
   "execution_count": 22,
   "metadata": {},
   "outputs": [
    {
     "data": {
      "image/png": "[encoded data removed]",
      "text/plain": [
       "<matplotlib.figure.Figure at 0x10cbb5c18>"
      ]
     },
     "metadata": {},
     "output_type": "display_data"
    }
   ],
   "source": [
    "ys = [click_list[30:], CTR_list[30:], cost_list[30:]]\n",
    "labels = ['clicks', 'CTR', 'cost']\n",
    "\n",
    "for y, label in zip(ys, labels):\n",
    "    plt.plot(base_bid_list[30:], y, label=label)\n",
    "plt.legend()\n",
    "plt.xlabel('basebid')\n",
    "plt.ylabel('Clicks, cost and CTR')\n",
    "plt.title('Investigating the impacts of changing basebid on the performance of linear bidding')\n",
    "plt.show()"
   ]
  },
  {
   "cell_type": "code",
   "execution_count": 23,
   "metadata": {},
   "outputs": [],
   "source": [
    "\"\"\"\n",
    "Computes some basic statistics based on provided dataset such as Clicks, Imps and CTR.\n",
    "\"\"\"\n",
    "def calc_statistics(data):\n",
    "    cols = data[['click', 'advertiser', 'payprice']]\n",
    "    grouped_cols = cols.groupby('advertiser')\n",
    "    new_features = grouped_cols.count()\n",
    "    new_features['Imps'] = new_features['click']\n",
    "\n",
    "    new_features.rename(columns={'click':'Clicks', 'payprice':'Cost'}, inplace = True)\n",
    "\n",
    "    new_features[['Clicks', 'Cost']] = grouped_cols.sum()[['click', 'payprice']]\n",
    "    new_features['Cost'] = new_features['Cost'] / 1000\n",
    "\n",
    "    new_features[['Avg CPM']] = grouped_cols.mean()[['payprice']]\n",
    "    new_features['CTR'] = new_features['Clicks'] / new_features['Imps'] * 100\n",
    "    new_features['eCPC'] = new_features['Cost'] / new_features['Clicks']\n",
    "\n",
    "    new_features = new_features.reindex(sorted(new_features.columns), axis=1)\n",
    "    return new_features"
   ]
  },
  {
   "cell_type": "code",
   "execution_count": null,
   "metadata": {},
   "outputs": [],
   "source": []
  },
  {
   "cell_type": "code",
   "execution_count": 24,
   "metadata": {},
   "outputs": [
    {
     "data": {
      "text/plain": [
       "165"
      ]
     },
     "execution_count": 24,
     "metadata": {},
     "output_type": "execute_result"
    }
   ],
   "source": [
    "sum(suc_bids[:last_paided_index]['click'])"
   ]
  },
  {
   "cell_type": "code",
   "execution_count": 25,
   "metadata": {},
   "outputs": [
    {
     "name": "stdout",
     "output_type": "stream",
     "text": [
      "              Avg CPM       CTR  Clicks      Cost   Imps       eCPC\n",
      "advertiser                                                         \n",
      "1458        38.473183  0.211457      44   800.550  20808  18.194318\n",
      "2259         4.481481  0.000000       0     2.420    540        inf\n",
      "2261         3.861202  0.000000       0     3.533    915        inf\n",
      "2821        53.845269  0.090040      13   777.418  14438  59.801385\n",
      "2997        62.556674  0.422215      26   385.224   6158  14.816308\n",
      "3358        53.474378  0.174129      21   644.901  12060  30.709571\n",
      "3386        56.153401  0.058423      21  2018.434  35945  96.115905\n",
      "3427        49.572383  0.181098      32   875.944  17670  27.373250\n",
      "3476        50.299157  0.064840       8   620.591  12338  77.573875\n",
      "clicks: 165\n"
     ]
    }
   ],
   "source": [
    "suc_bids_statistics = calc_statistics(suc_bids[:last_paided_index])\n",
    "print(suc_bids_statistics)\n",
    "print('clicks: ' + str(sum(suc_bids_statistics['Clicks'])))"
   ]
  },
  {
   "cell_type": "code",
   "execution_count": 26,
   "metadata": {},
   "outputs": [],
   "source": [
    "submission = val.copy()[['advertiser', 'bidid']]\n",
    "submission['click'] = val_pred\n",
    "submission.set_index(['bidid'], inplace=True)\n",
    "submission.drop('advertiser', axis=1, inplace=True)\n",
    "submission.to_csv('xgboost_val.csv')"
   ]
  },
  {
   "cell_type": "code",
   "execution_count": 27,
   "metadata": {},
   "outputs": [],
   "source": [
    "# val_click_0 = new_val.query('advertiser == 2821 and click == 0')[['click', 'bidprice', 'payprice']]\n",
    "# val_click_1 = new_val.query('advertiser == 2821 and click == 1')[['click', 'bidprice', 'payprice']]"
   ]
  },
  {
   "cell_type": "code",
   "execution_count": 28,
   "metadata": {},
   "outputs": [],
   "source": [
    "# val_click_1.query('bidprice < payprice')"
   ]
  },
  {
   "cell_type": "code",
   "execution_count": 29,
   "metadata": {},
   "outputs": [],
   "source": [
    "# val_click_0.query('bidprice >= payprice').head()"
   ]
  },
  {
   "cell_type": "code",
   "execution_count": 30,
   "metadata": {},
   "outputs": [],
   "source": [
    "# len(val_click_0.query('bidprice >= payprice'))"
   ]
  },
  {
   "cell_type": "code",
   "execution_count": 31,
   "metadata": {},
   "outputs": [
    {
     "name": "stdout",
     "output_type": "stream",
     "text": [
      "              Avg CPM       CTR  Clicks      Cost   Imps        eCPC\n",
      "advertiser                                                          \n",
      "1458        68.875627  0.078585      49  4294.602  62353   87.644939\n",
      "2259        93.856297  0.011965       2  1568.808  16715  784.404000\n",
      "2261        89.658745  0.022140       3  1214.876  13550  404.958667\n",
      "2821        90.363355  0.086783      23  2394.900  26503  104.126087\n",
      "2997        62.950777  0.420984      26   388.784   6176   14.953231\n",
      "3358        84.824099  0.069826      23  2794.021  32939  121.479174\n",
      "3386        76.780958  0.049413      28  4350.793  56665  155.385464\n",
      "3427        75.259251  0.073730      37  3776.735  50183  102.073919\n",
      "3476        77.077083  0.028321      11  2993.751  38841  272.159182\n",
      "clicks: 202\n"
     ]
    }
   ],
   "source": [
    "val_statistics = calc_statistics(val)\n",
    "print(val_statistics)\n",
    "print('clicks: ' + str(sum(val_statistics['Clicks'])))"
   ]
  },
  {
   "cell_type": "code",
   "execution_count": 32,
   "metadata": {},
   "outputs": [
    {
     "name": "stdout",
     "output_type": "stream",
     "text": [
      "[0]\ttrain-rmse:0.355247\tvalid-rmse:0.355235\n",
      "Multiple eval metrics have been passed: 'valid-rmse' will be used for early stopping.\n",
      "\n",
      "Will train until valid-rmse hasn't improved in 50 rounds.\n",
      "[50]\ttrain-rmse:0.034734\tvalid-rmse:0.034684\n",
      "[100]\ttrain-rmse:0.034161\tvalid-rmse:0.034501\n",
      "[150]\ttrain-rmse:0.033733\tvalid-rmse:0.0342\n",
      "[200]\ttrain-rmse:0.033375\tvalid-rmse:0.03407\n",
      "[250]\ttrain-rmse:0.03307\tvalid-rmse:0.034056\n",
      "Stopping. Best iteration:\n",
      "[217]\ttrain-rmse:0.033202\tvalid-rmse:0.033992\n",
      "\n",
      "The validation set score is :\t0.033991701900959015\n",
      "\n",
      "[0]\ttrain-rmse:0.355237\tvalid-rmse:0.35526\n",
      "Multiple eval metrics have been passed: 'valid-rmse' will be used for early stopping.\n",
      "\n",
      "Will train until valid-rmse hasn't improved in 50 rounds.\n",
      "[50]\ttrain-rmse:0.03483\tvalid-rmse:0.03528\n",
      "[100]\ttrain-rmse:0.034104\tvalid-rmse:0.034542\n",
      "[150]\ttrain-rmse:0.033723\tvalid-rmse:0.034409\n",
      "[200]\ttrain-rmse:0.033414\tvalid-rmse:0.034234\n",
      "[250]\ttrain-rmse:0.0331\tvalid-rmse:0.034092\n",
      "Stopping. Best iteration:\n",
      "[236]\ttrain-rmse:0.03317\tvalid-rmse:0.034076\n",
      "\n",
      "The validation set score is :\t0.03407558426260948\n",
      "\n",
      "[0]\ttrain-rmse:0.355247\tvalid-rmse:0.355227\n",
      "Multiple eval metrics have been passed: 'valid-rmse' will be used for early stopping.\n",
      "\n",
      "Will train until valid-rmse hasn't improved in 50 rounds.\n",
      "[50]\ttrain-rmse:0.034978\tvalid-rmse:0.034749\n",
      "[100]\ttrain-rmse:0.034001\tvalid-rmse:0.034177\n",
      "[150]\ttrain-rmse:0.033748\tvalid-rmse:0.03409\n",
      "Stopping. Best iteration:\n",
      "[135]\ttrain-rmse:0.033827\tvalid-rmse:0.034062\n",
      "\n",
      "The validation set score is :\t0.034061696380376816\n",
      "\n",
      "[0]\ttrain-rmse:0.355233\tvalid-rmse:0.355262\n",
      "Multiple eval metrics have been passed: 'valid-rmse' will be used for early stopping.\n",
      "\n",
      "Will train until valid-rmse hasn't improved in 50 rounds.\n",
      "[50]\ttrain-rmse:0.034408\tvalid-rmse:0.03546\n",
      "[100]\ttrain-rmse:0.033698\tvalid-rmse:0.035205\n",
      "[150]\ttrain-rmse:0.033353\tvalid-rmse:0.035085\n",
      "[200]\ttrain-rmse:0.033067\tvalid-rmse:0.035011\n",
      "Stopping. Best iteration:\n",
      "[190]\ttrain-rmse:0.033121\tvalid-rmse:0.035\n",
      "\n",
      "The validation set score is :\t0.034999821335077286\n",
      "\n",
      "[0]\ttrain-rmse:0.355245\tvalid-rmse:0.355245\n",
      "Multiple eval metrics have been passed: 'valid-rmse' will be used for early stopping.\n",
      "\n",
      "Will train until valid-rmse hasn't improved in 50 rounds.\n",
      "[50]\ttrain-rmse:0.034452\tvalid-rmse:0.035502\n",
      "[100]\ttrain-rmse:0.033709\tvalid-rmse:0.035107\n",
      "[150]\ttrain-rmse:0.033391\tvalid-rmse:0.034986\n",
      "[200]\ttrain-rmse:0.033051\tvalid-rmse:0.034806\n",
      "[250]\ttrain-rmse:0.032807\tvalid-rmse:0.034733\n",
      "[300]\ttrain-rmse:0.032589\tvalid-rmse:0.034787\n",
      "Stopping. Best iteration:\n",
      "[260]\ttrain-rmse:0.032751\tvalid-rmse:0.034716\n",
      "\n",
      "The validation set score is :\t0.03471636399626732\n",
      "\n",
      "[0.033991702, 0.034075584, 0.034061696, 0.034999821, 0.034716364]\n"
     ]
    }
   ],
   "source": [
    "test_pred = KFold_model(train_x, train_y, test_x)"
   ]
  },
  {
   "cell_type": "code",
   "execution_count": 33,
   "metadata": {},
   "outputs": [],
   "source": [
    "best_base_bid = 74\n",
    "submission = test.copy()[['advertiser', 'bidid']]\n",
    "bidprices = np.asarray([x * best_base_bid / avgCTR for x in test_pred])\n",
    "submission['bidprice'] = bidprices\n",
    "submission.set_index(['bidid'], inplace=True)\n",
    "submission.loc[submission.advertiser == 2259, 'bidprice'] = 5\n",
    "submission.loc[submission.advertiser == 2261, 'bidprice'] = 5\n",
    "submission.drop('advertiser', axis=1, inplace=True)\n",
    "submission.to_csv('Group_5.csv')"
   ]
  }
 ],
 "metadata": {
  "kernelspec": {
   "display_name": "Python 3",
   "language": "python",
   "name": "python3"
  },
  "language_info": {
   "codemirror_mode": {
    "name": "ipython",
    "version": 3
   },
   "file_extension": ".py",
   "mimetype": "text/x-python",
   "name": "python",
   "nbconvert_exporter": "python",
   "pygments_lexer": "ipython3",
   "version": "3.6.2"
  }
 },
 "nbformat": 4,
 "nbformat_minor": 2
}
